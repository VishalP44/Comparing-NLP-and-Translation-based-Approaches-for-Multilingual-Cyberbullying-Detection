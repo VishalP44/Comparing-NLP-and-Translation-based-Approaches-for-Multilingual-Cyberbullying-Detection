{
  "nbformat": 4,
  "nbformat_minor": 0,
  "metadata": {
    "colab": {
      "provenance": []
    },
    "kernelspec": {
      "name": "python3",
      "display_name": "Python 3"
    },
    "language_info": {
      "name": "python"
    }
  },
  "cells": [
    {
      "cell_type": "code",
      "source": [
        "!pip install googletrans==4.0.0-rc1\n"
      ],
      "metadata": {
        "colab": {
          "base_uri": "https://localhost:8080/"
        },
        "id": "Jm8SU6pmvN7r",
        "outputId": "bac420b6-07bc-417d-c1c4-823b4137496b"
      },
      "execution_count": null,
      "outputs": [
        {
          "output_type": "stream",
          "name": "stdout",
          "text": [
            "Collecting googletrans==4.0.0-rc1\n",
            "  Downloading googletrans-4.0.0rc1.tar.gz (20 kB)\n",
            "  Preparing metadata (setup.py) ... \u001b[?25l\u001b[?25hdone\n",
            "Collecting httpx==0.13.3 (from googletrans==4.0.0-rc1)\n",
            "  Downloading httpx-0.13.3-py3-none-any.whl (55 kB)\n",
            "\u001b[2K     \u001b[90m━━━━━━━━━━━━━━━━━━━━━━━━━━━━━━━━━━━━━━━━\u001b[0m \u001b[32m55.1/55.1 kB\u001b[0m \u001b[31m1.9 MB/s\u001b[0m eta \u001b[36m0:00:00\u001b[0m\n",
            "\u001b[?25hRequirement already satisfied: certifi in /usr/local/lib/python3.10/dist-packages (from httpx==0.13.3->googletrans==4.0.0-rc1) (2023.7.22)\n",
            "Collecting hstspreload (from httpx==0.13.3->googletrans==4.0.0-rc1)\n",
            "  Downloading hstspreload-2023.1.1-py3-none-any.whl (1.5 MB)\n",
            "\u001b[2K     \u001b[90m━━━━━━━━━━━━━━━━━━━━━━━━━━━━━━━━━━━━━━━━\u001b[0m \u001b[32m1.5/1.5 MB\u001b[0m \u001b[31m9.4 MB/s\u001b[0m eta \u001b[36m0:00:00\u001b[0m\n",
            "\u001b[?25hRequirement already satisfied: sniffio in /usr/local/lib/python3.10/dist-packages (from httpx==0.13.3->googletrans==4.0.0-rc1) (1.3.0)\n",
            "Collecting chardet==3.* (from httpx==0.13.3->googletrans==4.0.0-rc1)\n",
            "  Downloading chardet-3.0.4-py2.py3-none-any.whl (133 kB)\n",
            "\u001b[2K     \u001b[90m━━━━━━━━━━━━━━━━━━━━━━━━━━━━━━━━━━━━━━\u001b[0m \u001b[32m133.4/133.4 kB\u001b[0m \u001b[31m11.6 MB/s\u001b[0m eta \u001b[36m0:00:00\u001b[0m\n",
            "\u001b[?25hCollecting idna==2.* (from httpx==0.13.3->googletrans==4.0.0-rc1)\n",
            "  Downloading idna-2.10-py2.py3-none-any.whl (58 kB)\n",
            "\u001b[2K     \u001b[90m━━━━━━━━━━━━━━━━━━━━━━━━━━━━━━━━━━━━━━━━\u001b[0m \u001b[32m58.8/58.8 kB\u001b[0m \u001b[31m6.9 MB/s\u001b[0m eta \u001b[36m0:00:00\u001b[0m\n",
            "\u001b[?25hCollecting rfc3986<2,>=1.3 (from httpx==0.13.3->googletrans==4.0.0-rc1)\n",
            "  Downloading rfc3986-1.5.0-py2.py3-none-any.whl (31 kB)\n",
            "Collecting httpcore==0.9.* (from httpx==0.13.3->googletrans==4.0.0-rc1)\n",
            "  Downloading httpcore-0.9.1-py3-none-any.whl (42 kB)\n",
            "\u001b[2K     \u001b[90m━━━━━━━━━━━━━━━━━━━━━━━━━━━━━━━━━━━━━━━━\u001b[0m \u001b[32m42.6/42.6 kB\u001b[0m \u001b[31m3.4 MB/s\u001b[0m eta \u001b[36m0:00:00\u001b[0m\n",
            "\u001b[?25hCollecting h11<0.10,>=0.8 (from httpcore==0.9.*->httpx==0.13.3->googletrans==4.0.0-rc1)\n",
            "  Downloading h11-0.9.0-py2.py3-none-any.whl (53 kB)\n",
            "\u001b[2K     \u001b[90m━━━━━━━━━━━━━━━━━━━━━━━━━━━━━━━━━━━━━━━━\u001b[0m \u001b[32m53.6/53.6 kB\u001b[0m \u001b[31m5.7 MB/s\u001b[0m eta \u001b[36m0:00:00\u001b[0m\n",
            "\u001b[?25hCollecting h2==3.* (from httpcore==0.9.*->httpx==0.13.3->googletrans==4.0.0-rc1)\n",
            "  Downloading h2-3.2.0-py2.py3-none-any.whl (65 kB)\n",
            "\u001b[2K     \u001b[90m━━━━━━━━━━━━━━━━━━━━━━━━━━━━━━━━━━━━━━━━\u001b[0m \u001b[32m65.0/65.0 kB\u001b[0m \u001b[31m6.9 MB/s\u001b[0m eta \u001b[36m0:00:00\u001b[0m\n",
            "\u001b[?25hCollecting hyperframe<6,>=5.2.0 (from h2==3.*->httpcore==0.9.*->httpx==0.13.3->googletrans==4.0.0-rc1)\n",
            "  Downloading hyperframe-5.2.0-py2.py3-none-any.whl (12 kB)\n",
            "Collecting hpack<4,>=3.0 (from h2==3.*->httpcore==0.9.*->httpx==0.13.3->googletrans==4.0.0-rc1)\n",
            "  Downloading hpack-3.0.0-py2.py3-none-any.whl (38 kB)\n",
            "Building wheels for collected packages: googletrans\n",
            "  Building wheel for googletrans (setup.py) ... \u001b[?25l\u001b[?25hdone\n",
            "  Created wheel for googletrans: filename=googletrans-4.0.0rc1-py3-none-any.whl size=17396 sha256=cbac734bdd2196f7af4ec1ce1adfec406a2f478f9d8b8d0371e3bbe28e195db3\n",
            "  Stored in directory: /root/.cache/pip/wheels/c0/59/9f/7372f0cf70160fe61b528532e1a7c8498c4becd6bcffb022de\n",
            "Successfully built googletrans\n",
            "Installing collected packages: rfc3986, hyperframe, hpack, h11, chardet, idna, hstspreload, h2, httpcore, httpx, googletrans\n",
            "  Attempting uninstall: chardet\n",
            "    Found existing installation: chardet 5.2.0\n",
            "    Uninstalling chardet-5.2.0:\n",
            "      Successfully uninstalled chardet-5.2.0\n",
            "  Attempting uninstall: idna\n",
            "    Found existing installation: idna 3.4\n",
            "    Uninstalling idna-3.4:\n",
            "      Successfully uninstalled idna-3.4\n",
            "Successfully installed chardet-3.0.4 googletrans-4.0.0rc1 h11-0.9.0 h2-3.2.0 hpack-3.0.0 hstspreload-2023.1.1 httpcore-0.9.1 httpx-0.13.3 hyperframe-5.2.0 idna-2.10 rfc3986-1.5.0\n",
            "\u001b[33mWARNING: Running pip as the 'root' user can result in broken permissions and conflicting behaviour with the system package manager. It is recommended to use a virtual environment instead: https://pip.pypa.io/warnings/venv\u001b[0m\u001b[33m\n",
            "\u001b[0m"
          ]
        }
      ]
    },
    {
      "cell_type": "code",
      "source": [
        "from googletrans import Translator\n",
        "from google.colab import drive\n",
        "import pandas as pd\n",
        "drive.mount('/gdrive')\n",
        "# Load your dataset (replace 'your_dataset.csv' with your dataset's file path)\n",
        "data = pd.read_csv('/gdrive/MyDrive/Hindi Dataset/Dataset/Cleaned_Filtered_Balanced_Dataset.csv')\n",
        "\n",
        "\n",
        "\n"
      ],
      "metadata": {
        "colab": {
          "base_uri": "https://localhost:8080/"
        },
        "id": "qn4D2v8Rur1S",
        "outputId": "60984e17-c5e4-4405-bd7d-0254eba2e06a"
      },
      "execution_count": null,
      "outputs": [
        {
          "output_type": "stream",
          "name": "stdout",
          "text": [
            "Drive already mounted at /gdrive; to attempt to forcibly remount, call drive.mount(\"/gdrive\", force_remount=True).\n"
          ]
        }
      ]
    },
    {
      "cell_type": "code",
      "source": [
        "# Initialize the translator\n",
        "translator = Translator()\n",
        "# Translate a single sentence\n",
        "hindi_sentence = \"प्रधानमंत्री गलवान क्यों नहीं गए ?\"\n",
        "english_translation = translator.translate(hindi_sentence, src='hi', dest='en').text\n",
        "\n",
        "# Check for data loss\n",
        "print(\"Original Hindi Sentence:\", hindi_sentence)\n",
        "print(\"Translated English Sentence:\", english_translation)"
      ],
      "metadata": {
        "colab": {
          "base_uri": "https://localhost:8080/"
        },
        "id": "NFlouKWPu1jq",
        "outputId": "d791edf5-2ef3-449b-8b41-fff1cd4511ab"
      },
      "execution_count": null,
      "outputs": [
        {
          "output_type": "stream",
          "name": "stdout",
          "text": [
            "Original Hindi Sentence: प्रधानमंत्री गलवान क्यों नहीं गए ?\n",
            "Translated English Sentence: Why did the Prime Minister not go to Galwan?\n"
          ]
        }
      ]
    },
    {
      "cell_type": "code",
      "source": [
        "# Translate each text in the 'Cleaned_Post' column and store the translations in a new column\n",
        "def translate_text(text):\n",
        "    try:\n",
        "        translation = translator.translate(text, src='hi', dest='en')\n",
        "        return translation.text if translation else None\n",
        "    except Exception as e:\n",
        "        return None\n",
        "\n",
        "data['English_Translation'] = data['Cleaned_Post'].apply(translate_text)\n",
        "\n",
        "# Print\n",
        "print(data.head())"
      ],
      "metadata": {
        "colab": {
          "base_uri": "https://localhost:8080/"
        },
        "id": "wekjpjSfvjYk",
        "outputId": "5f7f81cd-1181-44dd-8daa-904b29d1a4ab"
      },
      "execution_count": null,
      "outputs": [
        {
          "output_type": "stream",
          "name": "stdout",
          "text": [
            "                                        Cleaned_Post valid_labels  \\\n",
            "0  लखनऊः हिस्ट्रीशीटर दुर्गेश यादव की हत्या, दिनद...  non-hostile   \n",
            "1  यही तीन बात मेरी वीडियो में जो सच और तथ्य के आ...         hate   \n",
            "2  Petrol Diesel Price: 11 किस्तों में दिल्ली में...  non-hostile   \n",
            "3  इस हफ़्ते के Neta Nagri में अर्थ व्यवस्था और G...  non-hostile   \n",
            "4  मुख्यमंत्री श्री @ashokgehlot51 जी ने टोसिलिजु...  non-hostile   \n",
            "\n",
            "  Grouped_Labels  binary_labels  \\\n",
            "0    non-hostile              0   \n",
            "1        hostile              1   \n",
            "2    non-hostile              0   \n",
            "3    non-hostile              0   \n",
            "4    non-hostile              0   \n",
            "\n",
            "                                 English_Translation  \n",
            "0  Lucknow: Historyheater Durgesh Yadav murdered,...  \n",
            "1  The same three things in my video, which rotat...  \n",
            "2  Petrol Diesel Price: Petrol became expensive b...  \n",
            "3  Economic focus on economy and GDP in this week...  \n",
            "4  The Chief Minister Mr. @Ashokgehlot51G has dec...  \n"
          ]
        }
      ]
    },
    {
      "cell_type": "code",
      "source": [
        "# Specify the file path\n",
        "output_file_path = '/gdrive/MyDrive/Hindi Dataset/Dataset/English_Translated_Dataset.csv'\n",
        "\n",
        "# Save the DataFrame to a CSV file\n",
        "data.to_csv(output_file_path, index=False)\n",
        "\n",
        "# Print to confirm the file is saved\n",
        "print(f\"Data saved to {output_file_path}\")"
      ],
      "metadata": {
        "colab": {
          "base_uri": "https://localhost:8080/"
        },
        "id": "EwTvOJvRR0x0",
        "outputId": "22a02da8-2f3c-42d1-e64f-a1b211df7637"
      },
      "execution_count": null,
      "outputs": [
        {
          "output_type": "stream",
          "name": "stdout",
          "text": [
            "Data saved to /gdrive/MyDrive/Hindi Dataset/Dataset/English_Translated_Dataset.csv\n"
          ]
        }
      ]
    }
  ]
}